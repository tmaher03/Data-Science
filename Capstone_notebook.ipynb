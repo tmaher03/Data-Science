{
 "cells": [
  {
   "cell_type": "markdown",
   "metadata": {},
   "source": [
    "APPLIED DATA SCIENCE CAPSTONE NOTEBOOK"
   ]
  },
  {
   "cell_type": "markdown",
   "metadata": {},
   "source": [
    "Business Problem:\n",
    "\n",
    "This project will attempt to help a client looking to expand their retail business into three prospective cities: New York, Copenhagen, and Toronto. The client is a high end cafe and roastarie which also bakes and sells their own pastries. They currently have a small but strong business in the US and are looking to expand their presence, possibly internationally. \n",
    "\n",
    "My goal is to provide them with some insights to help them focus their expansion on one prospective city. I plan to look at which neighborhoods have the highest concentration of coffee shops and cafes and where they might have a particular opportunity. Since I don't have the details of a specific business case I will try and find as many exploratory insights that might appeal to a client of this type. My initial thinking is to use the k-means algorithm as I don't really know if any other algorithms would be helpful for this type of data set. \n",
    "\n",
    "(I've added the Copenhagen data here since I'm located in Copenhagen and thought it might be fun to compare a bit.)\n",
    "\n",
    "Data to be used: \n",
    "\n",
    "I will use the data from the New York and Toronto exercizes and I have added data from Copenhagen. The names of the neighborhoods are from google searches and wikipedia. In the case of Manhatten and Toronto we were provided with the initial data but in the for Copenhagen I mostly used wikipedia and google searches, even referencing google maps and latitude.to to get coordinates for specific neighborhoods. Since I live in Copenhagen I was able to correct or guide the locations a bit to better capture the neighborhoods. I was not able to find any data to scrape, unfortunately, so I had to add all the locations manually. Luckily, Copenhagen has far fewer neighborhoods.\n",
    "\n",
    "Venue data was all collected from Foursquare through their API the same way we did in the other exercises. \n",
    "\n"
   ]
  },
  {
   "cell_type": "code",
   "execution_count": null,
   "metadata": {},
   "outputs": [],
   "source": [
    "import pandas as pd\n",
    "import numpy as np\n"
   ]
  }
 ],
 "metadata": {
  "kernelspec": {
   "display_name": "Python 3",
   "language": "python",
   "name": "python3"
  },
  "language_info": {
   "codemirror_mode": {
    "name": "ipython",
    "version": 3
   },
   "file_extension": ".py",
   "mimetype": "text/x-python",
   "name": "python",
   "nbconvert_exporter": "python",
   "pygments_lexer": "ipython3",
   "version": "3.7.1"
  }
 },
 "nbformat": 4,
 "nbformat_minor": 2
}
