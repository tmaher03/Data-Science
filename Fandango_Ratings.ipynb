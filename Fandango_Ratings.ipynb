{
 "cells": [
  {
   "cell_type": "markdown",
   "metadata": {},
   "source": [
    "# Bias in Fandango Movie Reviews"
   ]
  },
  {
   "cell_type": "markdown",
   "metadata": {},
   "source": [
    "This project analyzes the diffence between individual user ratings and aggregate ratings on Fandango after Walt Hickey's article in 2015. We will look at data since Hickey's article to see if Fandango has corrected the issue as they claim. The data is from DataQuest, 2016-2017."
   ]
  },
  {
   "cell_type": "code",
   "execution_count": 2,
   "metadata": {
    "collapsed": true
   },
   "outputs": [],
   "source": [
    "import pandas as pd\n",
    "import numpy as np\n",
    "import matplotlib.pyplot as plt\n",
    "from matplotlib import style\n",
    "%matplotlib inline\n",
    "\n",
    "# Read in CSV files\n",
    "ratings_2015 = pd.read_csv('fandango_score_comparison.csv')\n",
    "ratings_2017 = pd.read_csv('movie_ratings_16_17.csv')"
   ]
  },
  {
   "cell_type": "markdown",
   "metadata": {},
   "source": [
    "#### Data sources\n",
    "https://github.com/mircealex/Movie_ratings_2016_17\n",
    "https://github.com/fivethirtyeight/data/blob/master/fandango/README.md"
   ]
  },
  {
   "cell_type": "markdown",
   "metadata": {},
   "source": [
    "### Data Exploration"
   ]
  },
  {
   "cell_type": "code",
   "execution_count": 3,
   "metadata": {
    "collapsed": false
   },
   "outputs": [
    {
     "name": "stdout",
     "output_type": "stream",
     "text": [
      "<class 'pandas.core.frame.DataFrame'>\n",
      "RangeIndex: 146 entries, 0 to 145\n",
      "Data columns (total 22 columns):\n",
      "FILM                          146 non-null object\n",
      "RottenTomatoes                146 non-null int64\n",
      "RottenTomatoes_User           146 non-null int64\n",
      "Metacritic                    146 non-null int64\n",
      "Metacritic_User               146 non-null float64\n",
      "IMDB                          146 non-null float64\n",
      "Fandango_Stars                146 non-null float64\n",
      "Fandango_Ratingvalue          146 non-null float64\n",
      "RT_norm                       146 non-null float64\n",
      "RT_user_norm                  146 non-null float64\n",
      "Metacritic_norm               146 non-null float64\n",
      "Metacritic_user_nom           146 non-null float64\n",
      "IMDB_norm                     146 non-null float64\n",
      "RT_norm_round                 146 non-null float64\n",
      "RT_user_norm_round            146 non-null float64\n",
      "Metacritic_norm_round         146 non-null float64\n",
      "Metacritic_user_norm_round    146 non-null float64\n",
      "IMDB_norm_round               146 non-null float64\n",
      "Metacritic_user_vote_count    146 non-null int64\n",
      "IMDB_user_vote_count          146 non-null int64\n",
      "Fandango_votes                146 non-null int64\n",
      "Fandango_Difference           146 non-null float64\n",
      "dtypes: float64(15), int64(6), object(1)\n",
      "memory usage: 25.2+ KB\n"
     ]
    }
   ],
   "source": [
    "ratings_2015.info()"
   ]
  },
  {
   "cell_type": "code",
   "execution_count": 4,
   "metadata": {
    "collapsed": false
   },
   "outputs": [
    {
     "data": {
      "text/html": [
       "<div>\n",
       "<style scoped>\n",
       "    .dataframe tbody tr th:only-of-type {\n",
       "        vertical-align: middle;\n",
       "    }\n",
       "\n",
       "    .dataframe tbody tr th {\n",
       "        vertical-align: top;\n",
       "    }\n",
       "\n",
       "    .dataframe thead th {\n",
       "        text-align: right;\n",
       "    }\n",
       "</style>\n",
       "<table border=\"1\" class=\"dataframe\">\n",
       "  <thead>\n",
       "    <tr style=\"text-align: right;\">\n",
       "      <th></th>\n",
       "      <th>FILM</th>\n",
       "      <th>RottenTomatoes</th>\n",
       "      <th>RottenTomatoes_User</th>\n",
       "      <th>Metacritic</th>\n",
       "      <th>Metacritic_User</th>\n",
       "      <th>IMDB</th>\n",
       "      <th>Fandango_Stars</th>\n",
       "      <th>Fandango_Ratingvalue</th>\n",
       "      <th>RT_norm</th>\n",
       "      <th>RT_user_norm</th>\n",
       "      <th>...</th>\n",
       "      <th>IMDB_norm</th>\n",
       "      <th>RT_norm_round</th>\n",
       "      <th>RT_user_norm_round</th>\n",
       "      <th>Metacritic_norm_round</th>\n",
       "      <th>Metacritic_user_norm_round</th>\n",
       "      <th>IMDB_norm_round</th>\n",
       "      <th>Metacritic_user_vote_count</th>\n",
       "      <th>IMDB_user_vote_count</th>\n",
       "      <th>Fandango_votes</th>\n",
       "      <th>Fandango_Difference</th>\n",
       "    </tr>\n",
       "  </thead>\n",
       "  <tbody>\n",
       "    <tr>\n",
       "      <th>0</th>\n",
       "      <td>Avengers: Age of Ultron (2015)</td>\n",
       "      <td>74</td>\n",
       "      <td>86</td>\n",
       "      <td>66</td>\n",
       "      <td>7.1</td>\n",
       "      <td>7.8</td>\n",
       "      <td>5.0</td>\n",
       "      <td>4.5</td>\n",
       "      <td>3.70</td>\n",
       "      <td>4.3</td>\n",
       "      <td>...</td>\n",
       "      <td>3.90</td>\n",
       "      <td>3.5</td>\n",
       "      <td>4.5</td>\n",
       "      <td>3.5</td>\n",
       "      <td>3.5</td>\n",
       "      <td>4.0</td>\n",
       "      <td>1330</td>\n",
       "      <td>271107</td>\n",
       "      <td>14846</td>\n",
       "      <td>0.5</td>\n",
       "    </tr>\n",
       "    <tr>\n",
       "      <th>1</th>\n",
       "      <td>Cinderella (2015)</td>\n",
       "      <td>85</td>\n",
       "      <td>80</td>\n",
       "      <td>67</td>\n",
       "      <td>7.5</td>\n",
       "      <td>7.1</td>\n",
       "      <td>5.0</td>\n",
       "      <td>4.5</td>\n",
       "      <td>4.25</td>\n",
       "      <td>4.0</td>\n",
       "      <td>...</td>\n",
       "      <td>3.55</td>\n",
       "      <td>4.5</td>\n",
       "      <td>4.0</td>\n",
       "      <td>3.5</td>\n",
       "      <td>4.0</td>\n",
       "      <td>3.5</td>\n",
       "      <td>249</td>\n",
       "      <td>65709</td>\n",
       "      <td>12640</td>\n",
       "      <td>0.5</td>\n",
       "    </tr>\n",
       "    <tr>\n",
       "      <th>2</th>\n",
       "      <td>Ant-Man (2015)</td>\n",
       "      <td>80</td>\n",
       "      <td>90</td>\n",
       "      <td>64</td>\n",
       "      <td>8.1</td>\n",
       "      <td>7.8</td>\n",
       "      <td>5.0</td>\n",
       "      <td>4.5</td>\n",
       "      <td>4.00</td>\n",
       "      <td>4.5</td>\n",
       "      <td>...</td>\n",
       "      <td>3.90</td>\n",
       "      <td>4.0</td>\n",
       "      <td>4.5</td>\n",
       "      <td>3.0</td>\n",
       "      <td>4.0</td>\n",
       "      <td>4.0</td>\n",
       "      <td>627</td>\n",
       "      <td>103660</td>\n",
       "      <td>12055</td>\n",
       "      <td>0.5</td>\n",
       "    </tr>\n",
       "    <tr>\n",
       "      <th>3</th>\n",
       "      <td>Do You Believe? (2015)</td>\n",
       "      <td>18</td>\n",
       "      <td>84</td>\n",
       "      <td>22</td>\n",
       "      <td>4.7</td>\n",
       "      <td>5.4</td>\n",
       "      <td>5.0</td>\n",
       "      <td>4.5</td>\n",
       "      <td>0.90</td>\n",
       "      <td>4.2</td>\n",
       "      <td>...</td>\n",
       "      <td>2.70</td>\n",
       "      <td>1.0</td>\n",
       "      <td>4.0</td>\n",
       "      <td>1.0</td>\n",
       "      <td>2.5</td>\n",
       "      <td>2.5</td>\n",
       "      <td>31</td>\n",
       "      <td>3136</td>\n",
       "      <td>1793</td>\n",
       "      <td>0.5</td>\n",
       "    </tr>\n",
       "    <tr>\n",
       "      <th>4</th>\n",
       "      <td>Hot Tub Time Machine 2 (2015)</td>\n",
       "      <td>14</td>\n",
       "      <td>28</td>\n",
       "      <td>29</td>\n",
       "      <td>3.4</td>\n",
       "      <td>5.1</td>\n",
       "      <td>3.5</td>\n",
       "      <td>3.0</td>\n",
       "      <td>0.70</td>\n",
       "      <td>1.4</td>\n",
       "      <td>...</td>\n",
       "      <td>2.55</td>\n",
       "      <td>0.5</td>\n",
       "      <td>1.5</td>\n",
       "      <td>1.5</td>\n",
       "      <td>1.5</td>\n",
       "      <td>2.5</td>\n",
       "      <td>88</td>\n",
       "      <td>19560</td>\n",
       "      <td>1021</td>\n",
       "      <td>0.5</td>\n",
       "    </tr>\n",
       "  </tbody>\n",
       "</table>\n",
       "<p>5 rows × 22 columns</p>\n",
       "</div>"
      ],
      "text/plain": [
       "                             FILM  RottenTomatoes  RottenTomatoes_User  \\\n",
       "0  Avengers: Age of Ultron (2015)              74                   86   \n",
       "1               Cinderella (2015)              85                   80   \n",
       "2                  Ant-Man (2015)              80                   90   \n",
       "3          Do You Believe? (2015)              18                   84   \n",
       "4   Hot Tub Time Machine 2 (2015)              14                   28   \n",
       "\n",
       "   Metacritic  Metacritic_User  IMDB  Fandango_Stars  Fandango_Ratingvalue  \\\n",
       "0          66              7.1   7.8             5.0                   4.5   \n",
       "1          67              7.5   7.1             5.0                   4.5   \n",
       "2          64              8.1   7.8             5.0                   4.5   \n",
       "3          22              4.7   5.4             5.0                   4.5   \n",
       "4          29              3.4   5.1             3.5                   3.0   \n",
       "\n",
       "   RT_norm  RT_user_norm         ...           IMDB_norm  RT_norm_round  \\\n",
       "0     3.70           4.3         ...                3.90            3.5   \n",
       "1     4.25           4.0         ...                3.55            4.5   \n",
       "2     4.00           4.5         ...                3.90            4.0   \n",
       "3     0.90           4.2         ...                2.70            1.0   \n",
       "4     0.70           1.4         ...                2.55            0.5   \n",
       "\n",
       "   RT_user_norm_round  Metacritic_norm_round  Metacritic_user_norm_round  \\\n",
       "0                 4.5                    3.5                         3.5   \n",
       "1                 4.0                    3.5                         4.0   \n",
       "2                 4.5                    3.0                         4.0   \n",
       "3                 4.0                    1.0                         2.5   \n",
       "4                 1.5                    1.5                         1.5   \n",
       "\n",
       "   IMDB_norm_round  Metacritic_user_vote_count  IMDB_user_vote_count  \\\n",
       "0              4.0                        1330                271107   \n",
       "1              3.5                         249                 65709   \n",
       "2              4.0                         627                103660   \n",
       "3              2.5                          31                  3136   \n",
       "4              2.5                          88                 19560   \n",
       "\n",
       "   Fandango_votes  Fandango_Difference  \n",
       "0           14846                  0.5  \n",
       "1           12640                  0.5  \n",
       "2           12055                  0.5  \n",
       "3            1793                  0.5  \n",
       "4            1021                  0.5  \n",
       "\n",
       "[5 rows x 22 columns]"
      ]
     },
     "execution_count": 4,
     "metadata": {},
     "output_type": "execute_result"
    }
   ],
   "source": [
    "ratings_2015.head()"
   ]
  },
  {
   "cell_type": "code",
   "execution_count": 5,
   "metadata": {
    "collapsed": false
   },
   "outputs": [
    {
     "name": "stdout",
     "output_type": "stream",
     "text": [
      "<class 'pandas.core.frame.DataFrame'>\n",
      "RangeIndex: 214 entries, 0 to 213\n",
      "Data columns (total 15 columns):\n",
      "movie           214 non-null object\n",
      "year            214 non-null int64\n",
      "metascore       214 non-null int64\n",
      "imdb            214 non-null float64\n",
      "tmeter          214 non-null int64\n",
      "audience        214 non-null int64\n",
      "fandango        214 non-null float64\n",
      "n_metascore     214 non-null float64\n",
      "n_imdb          214 non-null float64\n",
      "n_tmeter        214 non-null float64\n",
      "n_audience      214 non-null float64\n",
      "nr_metascore    214 non-null float64\n",
      "nr_imdb         214 non-null float64\n",
      "nr_tmeter       214 non-null float64\n",
      "nr_audience     214 non-null float64\n",
      "dtypes: float64(10), int64(4), object(1)\n",
      "memory usage: 25.2+ KB\n"
     ]
    }
   ],
   "source": [
    "ratings_2017.info()"
   ]
  },
  {
   "cell_type": "code",
   "execution_count": 6,
   "metadata": {
    "collapsed": false
   },
   "outputs": [
    {
     "data": {
      "text/html": [
       "<div>\n",
       "<style scoped>\n",
       "    .dataframe tbody tr th:only-of-type {\n",
       "        vertical-align: middle;\n",
       "    }\n",
       "\n",
       "    .dataframe tbody tr th {\n",
       "        vertical-align: top;\n",
       "    }\n",
       "\n",
       "    .dataframe thead th {\n",
       "        text-align: right;\n",
       "    }\n",
       "</style>\n",
       "<table border=\"1\" class=\"dataframe\">\n",
       "  <thead>\n",
       "    <tr style=\"text-align: right;\">\n",
       "      <th></th>\n",
       "      <th>movie</th>\n",
       "      <th>year</th>\n",
       "      <th>metascore</th>\n",
       "      <th>imdb</th>\n",
       "      <th>tmeter</th>\n",
       "      <th>audience</th>\n",
       "      <th>fandango</th>\n",
       "      <th>n_metascore</th>\n",
       "      <th>n_imdb</th>\n",
       "      <th>n_tmeter</th>\n",
       "      <th>n_audience</th>\n",
       "      <th>nr_metascore</th>\n",
       "      <th>nr_imdb</th>\n",
       "      <th>nr_tmeter</th>\n",
       "      <th>nr_audience</th>\n",
       "    </tr>\n",
       "  </thead>\n",
       "  <tbody>\n",
       "    <tr>\n",
       "      <th>0</th>\n",
       "      <td>10 Cloverfield Lane</td>\n",
       "      <td>2016</td>\n",
       "      <td>76</td>\n",
       "      <td>7.2</td>\n",
       "      <td>90</td>\n",
       "      <td>79</td>\n",
       "      <td>3.5</td>\n",
       "      <td>3.80</td>\n",
       "      <td>3.60</td>\n",
       "      <td>4.50</td>\n",
       "      <td>3.95</td>\n",
       "      <td>4.0</td>\n",
       "      <td>3.5</td>\n",
       "      <td>4.5</td>\n",
       "      <td>4.0</td>\n",
       "    </tr>\n",
       "    <tr>\n",
       "      <th>1</th>\n",
       "      <td>13 Hours</td>\n",
       "      <td>2016</td>\n",
       "      <td>48</td>\n",
       "      <td>7.3</td>\n",
       "      <td>50</td>\n",
       "      <td>83</td>\n",
       "      <td>4.5</td>\n",
       "      <td>2.40</td>\n",
       "      <td>3.65</td>\n",
       "      <td>2.50</td>\n",
       "      <td>4.15</td>\n",
       "      <td>2.5</td>\n",
       "      <td>3.5</td>\n",
       "      <td>2.5</td>\n",
       "      <td>4.0</td>\n",
       "    </tr>\n",
       "    <tr>\n",
       "      <th>2</th>\n",
       "      <td>A Cure for Wellness</td>\n",
       "      <td>2016</td>\n",
       "      <td>47</td>\n",
       "      <td>6.6</td>\n",
       "      <td>40</td>\n",
       "      <td>47</td>\n",
       "      <td>3.0</td>\n",
       "      <td>2.35</td>\n",
       "      <td>3.30</td>\n",
       "      <td>2.00</td>\n",
       "      <td>2.35</td>\n",
       "      <td>2.5</td>\n",
       "      <td>3.5</td>\n",
       "      <td>2.0</td>\n",
       "      <td>2.5</td>\n",
       "    </tr>\n",
       "    <tr>\n",
       "      <th>3</th>\n",
       "      <td>A Dog's Purpose</td>\n",
       "      <td>2017</td>\n",
       "      <td>43</td>\n",
       "      <td>5.2</td>\n",
       "      <td>33</td>\n",
       "      <td>76</td>\n",
       "      <td>4.5</td>\n",
       "      <td>2.15</td>\n",
       "      <td>2.60</td>\n",
       "      <td>1.65</td>\n",
       "      <td>3.80</td>\n",
       "      <td>2.0</td>\n",
       "      <td>2.5</td>\n",
       "      <td>1.5</td>\n",
       "      <td>4.0</td>\n",
       "    </tr>\n",
       "    <tr>\n",
       "      <th>4</th>\n",
       "      <td>A Hologram for the King</td>\n",
       "      <td>2016</td>\n",
       "      <td>58</td>\n",
       "      <td>6.1</td>\n",
       "      <td>70</td>\n",
       "      <td>57</td>\n",
       "      <td>3.0</td>\n",
       "      <td>2.90</td>\n",
       "      <td>3.05</td>\n",
       "      <td>3.50</td>\n",
       "      <td>2.85</td>\n",
       "      <td>3.0</td>\n",
       "      <td>3.0</td>\n",
       "      <td>3.5</td>\n",
       "      <td>3.0</td>\n",
       "    </tr>\n",
       "  </tbody>\n",
       "</table>\n",
       "</div>"
      ],
      "text/plain": [
       "                     movie  year  metascore  imdb  tmeter  audience  fandango  \\\n",
       "0      10 Cloverfield Lane  2016         76   7.2      90        79       3.5   \n",
       "1                 13 Hours  2016         48   7.3      50        83       4.5   \n",
       "2      A Cure for Wellness  2016         47   6.6      40        47       3.0   \n",
       "3          A Dog's Purpose  2017         43   5.2      33        76       4.5   \n",
       "4  A Hologram for the King  2016         58   6.1      70        57       3.0   \n",
       "\n",
       "   n_metascore  n_imdb  n_tmeter  n_audience  nr_metascore  nr_imdb  \\\n",
       "0         3.80    3.60      4.50        3.95           4.0      3.5   \n",
       "1         2.40    3.65      2.50        4.15           2.5      3.5   \n",
       "2         2.35    3.30      2.00        2.35           2.5      3.5   \n",
       "3         2.15    2.60      1.65        3.80           2.0      2.5   \n",
       "4         2.90    3.05      3.50        2.85           3.0      3.0   \n",
       "\n",
       "   nr_tmeter  nr_audience  \n",
       "0        4.5          4.0  \n",
       "1        2.5          4.0  \n",
       "2        2.0          2.5  \n",
       "3        1.5          4.0  \n",
       "4        3.5          3.0  "
      ]
     },
     "execution_count": 6,
     "metadata": {},
     "output_type": "execute_result"
    }
   ],
   "source": [
    "ratings_2017.head()"
   ]
  },
  {
   "cell_type": "code",
   "execution_count": 7,
   "metadata": {
    "collapsed": false
   },
   "outputs": [],
   "source": [
    "# Isolate columns related to Fandango in both data sets\n",
    "original = ratings_2015[['FILM', 'Fandango_Stars', 'Fandango_Ratingvalue', 'Fandango_votes', 'Fandango_Difference']]\n",
    "new = ratings_2017[['movie', 'year', 'fandango']]"
   ]
  },
  {
   "cell_type": "markdown",
   "metadata": {},
   "source": [
    "Hickey states that he pulled 510 movies from Fandago which had tickets on sale in 2015. This means the sampling was not random. For the 2016/17 data collected by Alex Olteanu, he collected data for 214 movies across 4 sites including Fandango (Hickey also looked across multiple sites). However, Olteanu only looked at data from 2016 or later because of Hickey's article generated so much publicity that it resulted in Fandango promising to change the way in aggregated ratings.\n",
    "\n",
    "Considering this limitation, we can really only compare data from these two time perieds. We will look at whether there is any difference between Fandago's ratings in 2016 and 2016. Hickey's original benchmark was a movie that had at least 30 reviews on the website. We will stick to that."
   ]
  },
  {
   "cell_type": "code",
   "execution_count": 8,
   "metadata": {
    "collapsed": false
   },
   "outputs": [
    {
     "data": {
      "text/plain": [
       "FILM                    0\n",
       "Fandango_Stars          0\n",
       "Fandango_Ratingvalue    0\n",
       "Fandango_votes          0\n",
       "Fandango_Difference     0\n",
       "dtype: int64"
      ]
     },
     "execution_count": 8,
     "metadata": {},
     "output_type": "execute_result"
    }
   ],
   "source": [
    "# Check if there are any movies in Hickey's data set with less than 30 reviews\n",
    "original[original['Fandango_votes'] < 30].count()"
   ]
  },
  {
   "cell_type": "code",
   "execution_count": 9,
   "metadata": {
    "collapsed": false
   },
   "outputs": [
    {
     "data": {
      "text/html": [
       "<div>\n",
       "<style scoped>\n",
       "    .dataframe tbody tr th:only-of-type {\n",
       "        vertical-align: middle;\n",
       "    }\n",
       "\n",
       "    .dataframe tbody tr th {\n",
       "        vertical-align: top;\n",
       "    }\n",
       "\n",
       "    .dataframe thead th {\n",
       "        text-align: right;\n",
       "    }\n",
       "</style>\n",
       "<table border=\"1\" class=\"dataframe\">\n",
       "  <thead>\n",
       "    <tr style=\"text-align: right;\">\n",
       "      <th></th>\n",
       "      <th>movie</th>\n",
       "      <th>year</th>\n",
       "      <th>fandango</th>\n",
       "    </tr>\n",
       "  </thead>\n",
       "  <tbody>\n",
       "    <tr>\n",
       "      <th>23</th>\n",
       "      <td>Bitter Harvest</td>\n",
       "      <td>2017</td>\n",
       "      <td>4.5</td>\n",
       "    </tr>\n",
       "    <tr>\n",
       "      <th>155</th>\n",
       "      <td>Table 19</td>\n",
       "      <td>2017</td>\n",
       "      <td>3.0</td>\n",
       "    </tr>\n",
       "    <tr>\n",
       "      <th>207</th>\n",
       "      <td>Whiskey Tango Foxtrot</td>\n",
       "      <td>2016</td>\n",
       "      <td>3.5</td>\n",
       "    </tr>\n",
       "    <tr>\n",
       "      <th>13</th>\n",
       "      <td>Arsenal</td>\n",
       "      <td>2017</td>\n",
       "      <td>3.5</td>\n",
       "    </tr>\n",
       "    <tr>\n",
       "      <th>64</th>\n",
       "      <td>Gold</td>\n",
       "      <td>2016</td>\n",
       "      <td>3.5</td>\n",
       "    </tr>\n",
       "    <tr>\n",
       "      <th>131</th>\n",
       "      <td>Pele: Birth of a Legened</td>\n",
       "      <td>2016</td>\n",
       "      <td>4.5</td>\n",
       "    </tr>\n",
       "    <tr>\n",
       "      <th>141</th>\n",
       "      <td>Sausage Party</td>\n",
       "      <td>2016</td>\n",
       "      <td>3.5</td>\n",
       "    </tr>\n",
       "    <tr>\n",
       "      <th>193</th>\n",
       "      <td>The Secret Life of Pets</td>\n",
       "      <td>2016</td>\n",
       "      <td>4.0</td>\n",
       "    </tr>\n",
       "    <tr>\n",
       "      <th>93</th>\n",
       "      <td>Kung Fu Panda 3</td>\n",
       "      <td>2016</td>\n",
       "      <td>4.5</td>\n",
       "    </tr>\n",
       "    <tr>\n",
       "      <th>30</th>\n",
       "      <td>Cafe Society</td>\n",
       "      <td>2016</td>\n",
       "      <td>3.5</td>\n",
       "    </tr>\n",
       "  </tbody>\n",
       "</table>\n",
       "</div>"
      ],
      "text/plain": [
       "                        movie  year  fandango\n",
       "23             Bitter Harvest  2017       4.5\n",
       "155                  Table 19  2017       3.0\n",
       "207     Whiskey Tango Foxtrot  2016       3.5\n",
       "13                    Arsenal  2017       3.5\n",
       "64                       Gold  2016       3.5\n",
       "131  Pele: Birth of a Legened  2016       4.5\n",
       "141             Sausage Party  2016       3.5\n",
       "193   The Secret Life of Pets  2016       4.0\n",
       "93            Kung Fu Panda 3  2016       4.5\n",
       "30               Cafe Society  2016       3.5"
      ]
     },
     "execution_count": 9,
     "metadata": {},
     "output_type": "execute_result"
    }
   ],
   "source": [
    "\"\"\" \n",
    "The new data does not have a column with number of votes but it is already \n",
    "curated from popular movies with many ratings according to the github page.\n",
    "However, we can do a random sample and check the movies on Fandango manually.\n",
    "\"\"\"\n",
    "\n",
    "new.sample(10, random_state=2)"
   ]
  },
  {
   "cell_type": "markdown",
   "metadata": {},
   "source": [
    "When checking the number of reviews on Fandango in the above list, I found that they have since gotten rid of their review system and are using Rotten Tomatoes'. Their site only shows a few reviews and then passes you to Rotten Tomatoes for more information. We will have to trust that these movies all had at least 30 reviews on Fandango at the time the data set was compiled. As of this analysis, all had numbers of reviews ranging from the thousands to tens of thousands on RT."
   ]
  },
  {
   "cell_type": "code",
   "execution_count": 10,
   "metadata": {
    "collapsed": true
   },
   "outputs": [],
   "source": [
    "\"\"\"\n",
    "We will focus on comparing the movies from 2015 to the movies from 2016 to see \n",
    "how they were rated. The newer data still contains movies from both 2016 and 2017.\n",
    "The original data has some movies that are not from 2015. We will first separate \n",
    "out the data into different years.\n",
    "\"\"\"\n",
    "new_2016 = new[new['year'] == 2016]\n",
    "new_2017 = new[new['year'] == 2017]"
   ]
  },
  {
   "cell_type": "code",
   "execution_count": 11,
   "metadata": {
    "collapsed": false
   },
   "outputs": [
    {
     "name": "stderr",
     "output_type": "stream",
     "text": [
      "/dataquest/system/env/python3/lib/python3.4/site-packages/ipykernel/__main__.py:2: UserWarning:\n",
      "\n",
      "This pattern has match groups. To actually get the groups, use str.extract.\n",
      "\n"
     ]
    }
   ],
   "source": [
    "# Save the films from 2015\n",
    "original_2015 = original[original['FILM'].str.contains('(2015)')]"
   ]
  },
  {
   "cell_type": "markdown",
   "metadata": {},
   "source": [
    "## Analysis"
   ]
  },
  {
   "cell_type": "code",
   "execution_count": 12,
   "metadata": {
    "collapsed": false
   },
   "outputs": [
    {
     "data": {
      "image/png": "[encoded data removed]",
      "text/plain": [
       "<matplotlib.figure.Figure at 0x7f0cac552400>"
      ]
     },
     "metadata": {},
     "output_type": "display_data"
    }
   ],
   "source": [
    "# Generate kernal density plots for both data sets and compare\n",
    "plt.style.use('fivethirtyeight')\n",
    "\n",
    "labels = np.arange(0,5.5,0.5)\n",
    "original_2015['Fandango_Stars'].plot.kde(label='2015')\n",
    "new_2016['fandango'].plot.kde(label='2016', figsize=(6,4))\n",
    "plt.title('Fandango Movie Reviews')\n",
    "plt.xlabel('Star Rating')\n",
    "plt.xlim(0,5)\n",
    "plt.xticks(labels);\n",
    "plt.legend(loc='upper left');"
   ]
  },
  {
   "cell_type": "markdown",
   "metadata": {},
   "source": [
    "We can see a slight shift in the distribution of the 2016 data to the left in comparison to 2015. It's still not quite a normal distribution but it's less skewed than the 2015 data. It would appear that movies from 2016 tend to be rated slightly lower, possibly up to a half star lower. "
   ]
  },
  {
   "cell_type": "code",
   "execution_count": 13,
   "metadata": {
    "collapsed": false
   },
   "outputs": [
    {
     "data": {
      "image/png": "[encoded data removed]",
      "text/plain": [
       "<matplotlib.figure.Figure at 0x7f0ca406def0>"
      ]
     },
     "metadata": {},
     "output_type": "display_data"
    }
   ],
   "source": [
    "# Visualize both frequency distributions\n",
    "fig = plt.figure(figsize=(12,5))\n",
    "ax1 = fig.add_subplot(121)\n",
    "ax2 = fig.add_subplot(122)\n",
    "\n",
    "ax1.hist(original_2015['Fandango_Stars'], bins=np.arange(0,6,0.5))\n",
    "# Compensate for different sample sizes the axis is rescaled so both plots have the same axis\n",
    "ax1.set_ylim(0,80)\n",
    "ax1.set_xlim(0,5.5)\n",
    "ax1.set_title('2015')\n",
    "ax1.set_ylabel('Frequency')\n",
    "ax1.set_xlabel('Star rating')\n",
    "ax2.hist(new_2016['fandango'], bins=np.arange(0,6,0.5))\n",
    "ax2.set_xlim(0,5.5)\n",
    "ax2.set_title('2016')\n",
    "ax2.set_xlabel('Star rating')\n",
    "ax2.tick_params(labelleft=False)"
   ]
  },
  {
   "cell_type": "markdown",
   "metadata": {},
   "source": [
    "The two distributions show a slight shift but because the sample sizes are different, the heights of the bars are noticably taller in the 2016 data. We will redo the same graph using percentages for a sense of proportion."
   ]
  },
  {
   "cell_type": "code",
   "execution_count": 14,
   "metadata": {
    "collapsed": false
   },
   "outputs": [],
   "source": [
    "# Prepare a new dataframe with percent values\n",
    "perc_2015 = original_2015['Fandango_Stars'].value_counts(normalize=True).sort_index() * 100\n",
    "perc_2016 = new_2016['fandango'].value_counts(normalize=True).sort_index() * 100\n",
    "ratings_perc = pd.DataFrame(columns=['2015','2016'], index=np.arange(0,5.5,0.5))\n",
    "ratings_perc['2015'] = perc_2015\n",
    "ratings_perc['2016'] = perc_2016\n",
    "ratings_perc.fillna(0.0, inplace=True)"
   ]
  },
  {
   "cell_type": "code",
   "execution_count": 15,
   "metadata": {
    "collapsed": false
   },
   "outputs": [
    {
     "data": {
      "text/plain": [
       "<matplotlib.text.Text at 0x7f0ca3ef8940>"
      ]
     },
     "execution_count": 15,
     "metadata": {},
     "output_type": "execute_result"
    },
    {
     "data": {
      "image/png": "[encoded data removed]",
      "text/plain": [
       "<matplotlib.figure.Figure at 0x7f0ca3fdb860>"
      ]
     },
     "metadata": {},
     "output_type": "display_data"
    }
   ],
   "source": [
    "# Visualize distributions by percent\n",
    "fig2 = plt.figure(figsize=(12,5))\n",
    "ax3 = fig2.add_subplot(121)\n",
    "ax4 = fig2.add_subplot(122)\n",
    "\n",
    "ax3.bar(np.arange(0,5.5,0.5), ratings_perc['2015'], width=0.5, align='edge', color='teal')\n",
    "ax3.set_xlim(0,5.5)\n",
    "ax3.set_ylim(0,45)\n",
    "ax3.set_title('2015')\n",
    "ax3.set_ylabel('Percent')\n",
    "ax3.set_xlabel('Star rating')\n",
    "ax4.bar(np.arange(0,5.5,0.5), ratings_perc['2016'], width=0.5, align='edge', color='teal')\n",
    "ax4.set_xlim(0,5.5)\n",
    "ax4.tick_params(labelleft=False)\n",
    "ax4.set_title('2016')\n",
    "ax4.set_xlabel('Star rating')"
   ]
  },
  {
   "cell_type": "markdown",
   "metadata": {
    "collapsed": false
   },
   "source": [
    "Showing what we saw in the KDE plot, the 2016 data is slightly less skewed than the 2015 data and starts to show the shape of a normal distribution, although still skewed to the left. "
   ]
  },
  {
   "cell_type": "markdown",
   "metadata": {},
   "source": [
    "We will briefly compare summary statistics to see the magnitude of the difference."
   ]
  },
  {
   "cell_type": "code",
   "execution_count": 16,
   "metadata": {
    "collapsed": false
   },
   "outputs": [
    {
     "data": {
      "text/html": [
       "<div>\n",
       "<style scoped>\n",
       "    .dataframe tbody tr th:only-of-type {\n",
       "        vertical-align: middle;\n",
       "    }\n",
       "\n",
       "    .dataframe tbody tr th {\n",
       "        vertical-align: top;\n",
       "    }\n",
       "\n",
       "    .dataframe thead th {\n",
       "        text-align: right;\n",
       "    }\n",
       "</style>\n",
       "<table border=\"1\" class=\"dataframe\">\n",
       "  <thead>\n",
       "    <tr style=\"text-align: right;\">\n",
       "      <th></th>\n",
       "      <th>2015</th>\n",
       "      <th>2016</th>\n",
       "    </tr>\n",
       "  </thead>\n",
       "  <tbody>\n",
       "    <tr>\n",
       "      <th>Mean</th>\n",
       "      <td>4.08527</td>\n",
       "      <td>3.88743</td>\n",
       "    </tr>\n",
       "    <tr>\n",
       "      <th>Median</th>\n",
       "      <td>4</td>\n",
       "      <td>4</td>\n",
       "    </tr>\n",
       "    <tr>\n",
       "      <th>Mode</th>\n",
       "      <td>4.5</td>\n",
       "      <td>4</td>\n",
       "    </tr>\n",
       "  </tbody>\n",
       "</table>\n",
       "</div>"
      ],
      "text/plain": [
       "           2015     2016\n",
       "Mean    4.08527  3.88743\n",
       "Median        4        4\n",
       "Mode        4.5        4"
      ]
     },
     "execution_count": 16,
     "metadata": {},
     "output_type": "execute_result"
    }
   ],
   "source": [
    "# Compile summary statistics for the two distributions\n",
    "summary_stats = pd.DataFrame(columns=['2015','2016'], index=['Mean','Median','Mode'])\n",
    "# Calculate 2015 statistics\n",
    "summary_stats.loc['Mean', '2015'] = original_2015['Fandango_Stars'].mean()\n",
    "summary_stats.loc['Median', '2015'] = original_2015['Fandango_Stars'].median()\n",
    "summary_stats.loc['Mode', '2015'] = original_2015['Fandango_Stars'].mode()[0]\n",
    "# Calculate 2016 statistics\n",
    "summary_stats.loc['Mean', '2016'] = new_2016['fandango'].mean()\n",
    "summary_stats.loc['Median', '2016'] = new_2016['fandango'].median()\n",
    "summary_stats.loc['Mode', '2016'] = new_2016['fandango'].mode()[0]\n",
    "summary_stats"
   ]
  },
  {
   "cell_type": "code",
   "execution_count": 17,
   "metadata": {
    "collapsed": false
   },
   "outputs": [
    {
     "data": {
      "image/png": "[encoded data removed]",
      "text/plain": [
       "<matplotlib.figure.Figure at 0x7f0cac5402b0>"
      ]
     },
     "metadata": {},
     "output_type": "display_data"
    }
   ],
   "source": [
    "summary_stats.plot.bar(rot=0, figsize=(8,4))\n",
    "plt.title('Comparing summary statistics: 2015 vs 2016')\n",
    "plt.ylabel('Stars')\n",
    "plt.ylim(0,5)\n",
    "plt.legend(loc='upper center', framealpha=0.1, fontsize='small');"
   ]
  },
  {
   "cell_type": "markdown",
   "metadata": {},
   "source": [
    "The averages are pretty close and the medians are identical. The Mode appears to be be where the largest difference is, a full half star apart. But we still have access to similar data from other websites. Hickey showed in his article a clear bias in Fandango's ratings which led Fandango to respond by saying they had a bug which only rounded up. We can compare the other 2015 data to the 2016 Fandango data since the other websites, presumably did not change their rating system and were the original sites Fandango was benchmarked against."
   ]
  },
  {
   "cell_type": "code",
   "execution_count": 18,
   "metadata": {
    "collapsed": false
   },
   "outputs": [
    {
     "name": "stderr",
     "output_type": "stream",
     "text": [
      "/dataquest/system/env/python3/lib/python3.4/site-packages/ipykernel/__main__.py:4: UserWarning:\n",
      "\n",
      "This pattern has match groups. To actually get the groups, use str.extract.\n",
      "\n"
     ]
    }
   ],
   "source": [
    "# We still have all the 2015 movies saved in a dataframe. We'll just use the \n",
    "# data from the other websites and compare their distributions. The data has \n",
    "# already been normalized across the different rating type\n",
    "other_sites = ratings_2015[ratings_2015['FILM'].str.contains('(2015)')].reset_index(drop=True)\n",
    "other_sites = other_sites[['RT_user_norm', 'Metacritic_user_nom', 'IMDB_norm']]"
   ]
  },
  {
   "cell_type": "code",
   "execution_count": 19,
   "metadata": {
    "collapsed": false
   },
   "outputs": [
    {
     "name": "stdout",
     "output_type": "stream",
     "text": [
      "<class 'pandas.core.frame.DataFrame'>\n",
      "RangeIndex: 129 entries, 0 to 128\n",
      "Data columns (total 3 columns):\n",
      "RT_user_norm           129 non-null float64\n",
      "Metacritic_user_nom    129 non-null float64\n",
      "IMDB_norm              129 non-null float64\n",
      "dtypes: float64(3)\n",
      "memory usage: 3.1 KB\n"
     ]
    }
   ],
   "source": [
    "other_sites.info()"
   ]
  },
  {
   "cell_type": "code",
   "execution_count": 20,
   "metadata": {
    "collapsed": false
   },
   "outputs": [
    {
     "data": {
      "image/png": "[encoded data removed]",
      "text/plain": [
       "<matplotlib.figure.Figure at 0x7f0ca3fdbd30>"
      ]
     },
     "metadata": {},
     "output_type": "display_data"
    }
   ],
   "source": [
    "# Let's start with a KDE plot the 2016 Fandango data vs the other sites from 2015\n",
    "labels = np.arange(0,5.5,0.5)\n",
    "new_2016['fandango'].plot.kde(label=' Fandango 2016', figsize=(8,6))\n",
    "other_sites['RT_user_norm'].plot.kde(label='RT')\n",
    "other_sites['Metacritic_user_nom'].plot.kde(label='Metacritic')\n",
    "other_sites['IMDB_norm'].plot.kde(label='IMDB')\n",
    "plt.title('Fandango 2016 vs Other 2015')\n",
    "plt.xlabel('Star Rating', fontsize='small')\n",
    "plt.ylabel('Density', fontsize='small')\n",
    "plt.xlim(0,5)\n",
    "plt.xticks(labels);\n",
    "plt.legend(loc='upper left', fontsize='small');"
   ]
  },
  {
   "cell_type": "markdown",
   "metadata": {},
   "source": [
    "Metacritic and IMDB both have more normal distributions which peak at 3.5. RT has a bit stranger distribution which has a very low peak at 4 stars. The Fandango data is still farther to the right than Metacritic and IMDB and most of RT's data points. Let's look at the histograms. To help analyze, we will convert the frequencies to percents again."
   ]
  },
  {
   "cell_type": "code",
   "execution_count": 148,
   "metadata": {
    "collapsed": false
   },
   "outputs": [
    {
     "data": {
      "text/html": [
       "<div>\n",
       "<style scoped>\n",
       "    .dataframe tbody tr th:only-of-type {\n",
       "        vertical-align: middle;\n",
       "    }\n",
       "\n",
       "    .dataframe tbody tr th {\n",
       "        vertical-align: top;\n",
       "    }\n",
       "\n",
       "    .dataframe thead th {\n",
       "        text-align: right;\n",
       "    }\n",
       "</style>\n",
       "<table border=\"1\" class=\"dataframe\">\n",
       "  <thead>\n",
       "    <tr style=\"text-align: right;\">\n",
       "      <th></th>\n",
       "      <th>Fandango 2016</th>\n",
       "      <th>RT</th>\n",
       "      <th>MC</th>\n",
       "      <th>IMDB</th>\n",
       "    </tr>\n",
       "  </thead>\n",
       "  <tbody>\n",
       "    <tr>\n",
       "      <th>0.5</th>\n",
       "      <td>0.000000</td>\n",
       "      <td>0.000000</td>\n",
       "      <td>0.000000</td>\n",
       "      <td>0.000000</td>\n",
       "    </tr>\n",
       "    <tr>\n",
       "      <th>1.0</th>\n",
       "      <td>0.000000</td>\n",
       "      <td>0.775194</td>\n",
       "      <td>0.000000</td>\n",
       "      <td>0.000000</td>\n",
       "    </tr>\n",
       "    <tr>\n",
       "      <th>1.5</th>\n",
       "      <td>0.000000</td>\n",
       "      <td>7.751938</td>\n",
       "      <td>2.325581</td>\n",
       "      <td>0.000000</td>\n",
       "    </tr>\n",
       "    <tr>\n",
       "      <th>2.0</th>\n",
       "      <td>0.000000</td>\n",
       "      <td>9.302326</td>\n",
       "      <td>8.527132</td>\n",
       "      <td>0.775194</td>\n",
       "    </tr>\n",
       "    <tr>\n",
       "      <th>2.5</th>\n",
       "      <td>3.141361</td>\n",
       "      <td>10.852713</td>\n",
       "      <td>6.976744</td>\n",
       "      <td>6.201550</td>\n",
       "    </tr>\n",
       "    <tr>\n",
       "      <th>3.0</th>\n",
       "      <td>7.329843</td>\n",
       "      <td>16.279070</td>\n",
       "      <td>16.279070</td>\n",
       "      <td>14.728682</td>\n",
       "    </tr>\n",
       "    <tr>\n",
       "      <th>3.5</th>\n",
       "      <td>24.083770</td>\n",
       "      <td>13.178295</td>\n",
       "      <td>27.131783</td>\n",
       "      <td>36.434109</td>\n",
       "    </tr>\n",
       "    <tr>\n",
       "      <th>4.0</th>\n",
       "      <td>40.314136</td>\n",
       "      <td>12.403101</td>\n",
       "      <td>27.131783</td>\n",
       "      <td>37.209302</td>\n",
       "    </tr>\n",
       "    <tr>\n",
       "      <th>4.5</th>\n",
       "      <td>24.607330</td>\n",
       "      <td>27.906977</td>\n",
       "      <td>10.852713</td>\n",
       "      <td>4.651163</td>\n",
       "    </tr>\n",
       "  </tbody>\n",
       "</table>\n",
       "</div>"
      ],
      "text/plain": [
       "     Fandango 2016         RT         MC       IMDB\n",
       "0.5       0.000000   0.000000   0.000000   0.000000\n",
       "1.0       0.000000   0.775194   0.000000   0.000000\n",
       "1.5       0.000000   7.751938   2.325581   0.000000\n",
       "2.0       0.000000   9.302326   8.527132   0.775194\n",
       "2.5       3.141361  10.852713   6.976744   6.201550\n",
       "3.0       7.329843  16.279070  16.279070  14.728682\n",
       "3.5      24.083770  13.178295  27.131783  36.434109\n",
       "4.0      40.314136  12.403101  27.131783  37.209302\n",
       "4.5      24.607330  27.906977  10.852713   4.651163"
      ]
     },
     "execution_count": 148,
     "metadata": {},
     "output_type": "execute_result"
    }
   ],
   "source": [
    "# Calculate relative distributions in percent\n",
    "perc_2016 = new_2016['fandango'].value_counts(normalize=True).sort_index() * 100\n",
    "perc_RT = other_sites['RT_user_norm'].value_counts(bins=np.arange(0,5,0.5), normalize=True).sort_index() * 100\n",
    "perc_MC = other_sites['Metacritic_user_nom'].value_counts(bins=np.arange(0,5,0.5), normalize=True).sort_index() * 100\n",
    "perc_IMDB = other_sites['IMDB_norm'].value_counts(bins=np.arange(0,5,0.5), normalize=True).sort_index() * 100\n",
    "# Reindex to use a more flexible format\n",
    "perc_RT = perc_RT.reindex([0.5,1.0,1.5,2.0,2.5,3.0,3.5,4.0,4.5])\n",
    "perc_MC = perc_MC.reindex([0.5,1.0,1.5,2.0,2.5,3.0,3.5,4.0,4.5])\n",
    "perc_IMDB = perc_IMDB.reindex([0.5,1.0,1.5,2.0,2.5,3.0,3.5,4.0,4.5])\n",
    "# Display distributions in a table\n",
    "all_ratings_perc = pd.DataFrame(columns=['Fandango 2016','RT','MC','IMDB'], index=np.arange(0.5,5,0.5))\n",
    "all_ratings_perc['Fandango 2016'] = perc_2016\n",
    "all_ratings_perc['RT'] = perc_RT\n",
    "all_ratings_perc['MC'] = perc_MC\n",
    "all_ratings_perc['IMDB'] = perc_IMDB\n",
    "all_ratings_perc.fillna(0.0, inplace=True)\n",
    "all_ratings_perc.drop(index=[0.5], inplace=True)\n",
    "all_ratings_perc"
   ]
  },
  {
   "cell_type": "code",
   "execution_count": 144,
   "metadata": {
    "collapsed": false
   },
   "outputs": [
    {
     "data": {
      "image/png": "[encoded data removed]",
      "text/plain": [
       "<matplotlib.figure.Figure at 0x7f0ca1b457b8>"
      ]
     },
     "metadata": {},
     "output_type": "display_data"
    }
   ],
   "source": [
    "# Visualize all frequency distributions\n",
    "fig = plt.figure(figsize=(14,12))\n",
    "ax1 = fig.add_subplot(221)\n",
    "ax2 = fig.add_subplot(222)\n",
    "ax3 = fig.add_subplot(223)\n",
    "ax4 = fig.add_subplot(224)\n",
    "# Generate a bar chart for \n",
    "ax1.bar(np.arange(2.5,5.5,0.5), perc_2016, width=0.5, align='edge', color='#30a2da')\n",
    "ax1.set_ylim(0,45)\n",
    "ax1.set_xlim(0,5.5)\n",
    "ax1.set_title('Fandango 2016', loc='left')\n",
    "ax1.set_ylabel('Percent')\n",
    "ax2.bar(perc_RT.index, perc_RT, width=0.5, align='edge', color='#30a2da')\n",
    "ax2.set_xlim(0,5.5)\n",
    "ax2.set_ylim(0,45)\n",
    "ax2.set_title('RT', loc='left')\n",
    "ax2.tick_params(labelleft=False)\n",
    "ax3.bar(perc_MC.index, perc_MC, width=0.5, align='edge', color='#30a2da')\n",
    "ax3.set_xlim(0,5.5)\n",
    "ax3.set_ylim(0,45)\n",
    "ax3.set_title('Metacritic', loc='left')\n",
    "ax3.set_xlabel('Star rating')\n",
    "ax3.set_ylabel('Percent')\n",
    "ax4.bar(perc_IMDB.index, perc_IMDB, width=0.5, align='edge', color='#30a2da')\n",
    "ax4.set_xlim(0,5.5)\n",
    "ax4.set_ylim(0,45)\n",
    "ax4.set_title('IMDB', loc='left')\n",
    "ax4.set_xlabel('Star rating')\n",
    "ax4.tick_params(labelleft=False)\n"
   ]
  },
  {
   "cell_type": "markdown",
   "metadata": {},
   "source": [
    "Interestingly, Fandango's distribution seems to resemble IMBD's. Metacritic and RT have more distributed observations and actually start at 1 or 1.5 stars. Fandango has no observations under 2.5 stars. IMDB is similar to Fandango's but ranges from 2 to 4.5 stars. IMDB also has a very high concentration of observations. Both 3 and 3.5 stars account for over 70% of observations. Finally we'll finish the analysis with summary statistics."
   ]
  },
  {
   "cell_type": "code",
   "execution_count": 151,
   "metadata": {
    "collapsed": false
   },
   "outputs": [
    {
     "data": {
      "text/html": [
       "<div>\n",
       "<style scoped>\n",
       "    .dataframe tbody tr th:only-of-type {\n",
       "        vertical-align: middle;\n",
       "    }\n",
       "\n",
       "    .dataframe tbody tr th {\n",
       "        vertical-align: top;\n",
       "    }\n",
       "\n",
       "    .dataframe thead th {\n",
       "        text-align: right;\n",
       "    }\n",
       "</style>\n",
       "<table border=\"1\" class=\"dataframe\">\n",
       "  <thead>\n",
       "    <tr style=\"text-align: right;\">\n",
       "      <th></th>\n",
       "      <th>Fandango 2016</th>\n",
       "      <th>RT</th>\n",
       "      <th>Metacritic</th>\n",
       "      <th>IMDB</th>\n",
       "    </tr>\n",
       "  </thead>\n",
       "  <tbody>\n",
       "    <tr>\n",
       "      <th>Mean</th>\n",
       "      <td>3.88743</td>\n",
       "      <td>3.14147</td>\n",
       "      <td>3.21705</td>\n",
       "      <td>3.34186</td>\n",
       "    </tr>\n",
       "    <tr>\n",
       "      <th>Median</th>\n",
       "      <td>4</td>\n",
       "      <td>3.25</td>\n",
       "      <td>3.4</td>\n",
       "      <td>3.35</td>\n",
       "    </tr>\n",
       "    <tr>\n",
       "      <th>Mode</th>\n",
       "      <td>4</td>\n",
       "      <td>4.05</td>\n",
       "      <td>3.95</td>\n",
       "      <td>3.3</td>\n",
       "    </tr>\n",
       "  </tbody>\n",
       "</table>\n",
       "</div>"
      ],
      "text/plain": [
       "       Fandango 2016       RT Metacritic     IMDB\n",
       "Mean         3.88743  3.14147    3.21705  3.34186\n",
       "Median             4     3.25        3.4     3.35\n",
       "Mode               4     4.05       3.95      3.3"
      ]
     },
     "execution_count": 151,
     "metadata": {},
     "output_type": "execute_result"
    }
   ],
   "source": [
    "# Compile summary statistics for the two distributions\n",
    "all_summary_stats = pd.DataFrame(columns=['Fandango 2016', 'RT', 'Metacritic', 'IMDB'], index=['Mean','Median','Mode'])\n",
    "# Calculate Fandango 2016 statistics\n",
    "all_summary_stats.loc['Mean', 'Fandango 2016'] = new_2016['fandango'].mean()\n",
    "all_summary_stats.loc['Median', 'Fandango 2016'] = new_2016['fandango'].median()\n",
    "all_summary_stats.loc['Mode', 'Fandango 2016'] = new_2016['fandango'].mode()[0]\n",
    "# Calculate RT statistics\n",
    "all_summary_stats.loc['Mean', 'RT'] = other_sites['RT_user_norm'].mean()\n",
    "all_summary_stats.loc['Median', 'RT'] = other_sites['RT_user_norm'].median()\n",
    "all_summary_stats.loc['Mode', 'RT'] = other_sites['RT_user_norm'].mode()[0]\n",
    "# Calculate MC statistics\n",
    "all_summary_stats.loc['Mean', 'Metacritic'] = other_sites['Metacritic_user_nom'].mean()\n",
    "all_summary_stats.loc['Median', 'Metacritic'] = other_sites['Metacritic_user_nom'].median()\n",
    "all_summary_stats.loc['Mode', 'Metacritic'] = other_sites['Metacritic_user_nom'].mode()[0]\n",
    "# Calculate IMDB statistics\n",
    "all_summary_stats.loc['Mean', 'IMDB'] = other_sites['IMDB_norm'].mean()\n",
    "all_summary_stats.loc['Median', 'IMDB'] = other_sites['IMDB_norm'].median()\n",
    "all_summary_stats.loc['Mode', 'IMDB'] = other_sites['IMDB_norm'].mode()[0]\n",
    "\n",
    "all_summary_stats"
   ]
  },
  {
   "cell_type": "code",
   "execution_count": 176,
   "metadata": {
    "collapsed": false
   },
   "outputs": [
    {
     "data": {
      "image/png": "[encoded data removed]",
      "text/plain": [
       "<matplotlib.figure.Figure at 0x7f0ca1bd6da0>"
      ]
     },
     "metadata": {},
     "output_type": "display_data"
    }
   ],
   "source": [
    "all_summary_stats.plot.bar(rot=0, figsize=(8,6))\n",
    "plt.title('Comparing summary statistics: Fandango 2016 vs Other sites', y=1.1)\n",
    "plt.ylabel('Stars')\n",
    "plt.ylim(0,5)\n",
    "#plt.tight_layout()\n",
    "plt.legend(bbox_to_anchor=(1.1,1.1), framealpha=0.1, fontsize='small');"
   ]
  },
  {
   "cell_type": "markdown",
   "metadata": {},
   "source": [
    "Finding the mode can be difficult with the other sites since their ratings are discrete having been converted from other rating systems to Fandango's 5-star system with only half stars possible. But we can see a clear difference in the mean and median values. Fandango remains over a half star above the other sites."
   ]
  },
  {
   "cell_type": "code",
   "execution_count": null,
   "metadata": {
    "collapsed": true
   },
   "outputs": [],
   "source": []
  }
 ],
 "metadata": {
  "kernelspec": {
   "display_name": "Python 3",
   "language": "python",
   "name": "python3"
  },
  "language_info": {
   "codemirror_mode": {
    "name": "ipython",
    "version": 3
   },
   "file_extension": ".py",
   "mimetype": "text/x-python",
   "name": "python",
   "nbconvert_exporter": "python",
   "pygments_lexer": "ipython3",
   "version": "3.4.3"
  }
 },
 "nbformat": 4,
 "nbformat_minor": 2
}
